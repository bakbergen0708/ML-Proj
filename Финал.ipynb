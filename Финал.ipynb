{
  "nbformat": 4,
  "nbformat_minor": 0,
  "metadata": {
    "colab": {
      "provenance": []
    },
    "kernelspec": {
      "name": "python3",
      "display_name": "Python 3"
    },
    "language_info": {
      "name": "python"
    }
  },
  "cells": [
    {
      "cell_type": "code",
      "execution_count": 1,
      "metadata": {
        "id": "y3CCY-m4Wbo6",
        "outputId": "158fc70e-ac73-482d-e6b7-52de3bf2aedc",
        "colab": {
          "base_uri": "https://localhost:8080/"
        }
      },
      "outputs": [
        {
          "output_type": "stream",
          "name": "stdout",
          "text": [
            "Collecting git+https://github.com/openai/whisper.git\n",
            "  Cloning https://github.com/openai/whisper.git to /tmp/pip-req-build-z7ynpgju\n",
            "  Running command git clone --filter=blob:none --quiet https://github.com/openai/whisper.git /tmp/pip-req-build-z7ynpgju\n",
            "  Resolved https://github.com/openai/whisper.git to commit 90db0de1896c23cbfaf0c58bc2d30665f709f170\n",
            "  Installing build dependencies ... \u001b[?25l\u001b[?25hdone\n",
            "  Getting requirements to build wheel ... \u001b[?25l\u001b[?25hdone\n",
            "  Preparing metadata (pyproject.toml) ... \u001b[?25l\u001b[?25hdone\n",
            "Requirement already satisfied: openai in /usr/local/lib/python3.10/dist-packages (1.54.5)\n",
            "Requirement already satisfied: numba in /usr/local/lib/python3.10/dist-packages (from openai-whisper==20240930) (0.60.0)\n",
            "Requirement already satisfied: numpy in /usr/local/lib/python3.10/dist-packages (from openai-whisper==20240930) (1.26.4)\n",
            "Requirement already satisfied: torch in /usr/local/lib/python3.10/dist-packages (from openai-whisper==20240930) (2.5.1+cu121)\n",
            "Requirement already satisfied: tqdm in /usr/local/lib/python3.10/dist-packages (from openai-whisper==20240930) (4.66.6)\n",
            "Requirement already satisfied: more-itertools in /usr/local/lib/python3.10/dist-packages (from openai-whisper==20240930) (10.5.0)\n",
            "Collecting tiktoken (from openai-whisper==20240930)\n",
            "  Downloading tiktoken-0.8.0-cp310-cp310-manylinux_2_17_x86_64.manylinux2014_x86_64.whl.metadata (6.6 kB)\n",
            "Collecting triton>=2.0.0 (from openai-whisper==20240930)\n",
            "  Downloading triton-3.1.0-cp310-cp310-manylinux_2_17_x86_64.manylinux2014_x86_64.whl.metadata (1.3 kB)\n",
            "Requirement already satisfied: anyio<5,>=3.5.0 in /usr/local/lib/python3.10/dist-packages (from openai) (3.7.1)\n",
            "Requirement already satisfied: distro<2,>=1.7.0 in /usr/local/lib/python3.10/dist-packages (from openai) (1.9.0)\n",
            "Requirement already satisfied: httpx<1,>=0.23.0 in /usr/local/lib/python3.10/dist-packages (from openai) (0.28.1)\n",
            "Requirement already satisfied: jiter<1,>=0.4.0 in /usr/local/lib/python3.10/dist-packages (from openai) (0.8.2)\n",
            "Requirement already satisfied: pydantic<3,>=1.9.0 in /usr/local/lib/python3.10/dist-packages (from openai) (2.10.3)\n",
            "Requirement already satisfied: sniffio in /usr/local/lib/python3.10/dist-packages (from openai) (1.3.1)\n",
            "Requirement already satisfied: typing-extensions<5,>=4.11 in /usr/local/lib/python3.10/dist-packages (from openai) (4.12.2)\n",
            "Requirement already satisfied: idna>=2.8 in /usr/local/lib/python3.10/dist-packages (from anyio<5,>=3.5.0->openai) (3.10)\n",
            "Requirement already satisfied: exceptiongroup in /usr/local/lib/python3.10/dist-packages (from anyio<5,>=3.5.0->openai) (1.2.2)\n",
            "Requirement already satisfied: certifi in /usr/local/lib/python3.10/dist-packages (from httpx<1,>=0.23.0->openai) (2024.8.30)\n",
            "Requirement already satisfied: httpcore==1.* in /usr/local/lib/python3.10/dist-packages (from httpx<1,>=0.23.0->openai) (1.0.7)\n",
            "Requirement already satisfied: h11<0.15,>=0.13 in /usr/local/lib/python3.10/dist-packages (from httpcore==1.*->httpx<1,>=0.23.0->openai) (0.14.0)\n",
            "Requirement already satisfied: annotated-types>=0.6.0 in /usr/local/lib/python3.10/dist-packages (from pydantic<3,>=1.9.0->openai) (0.7.0)\n",
            "Requirement already satisfied: pydantic-core==2.27.1 in /usr/local/lib/python3.10/dist-packages (from pydantic<3,>=1.9.0->openai) (2.27.1)\n",
            "Requirement already satisfied: filelock in /usr/local/lib/python3.10/dist-packages (from triton>=2.0.0->openai-whisper==20240930) (3.16.1)\n",
            "Requirement already satisfied: llvmlite<0.44,>=0.43.0dev0 in /usr/local/lib/python3.10/dist-packages (from numba->openai-whisper==20240930) (0.43.0)\n",
            "Requirement already satisfied: regex>=2022.1.18 in /usr/local/lib/python3.10/dist-packages (from tiktoken->openai-whisper==20240930) (2024.9.11)\n",
            "Requirement already satisfied: requests>=2.26.0 in /usr/local/lib/python3.10/dist-packages (from tiktoken->openai-whisper==20240930) (2.32.3)\n",
            "Requirement already satisfied: networkx in /usr/local/lib/python3.10/dist-packages (from torch->openai-whisper==20240930) (3.4.2)\n",
            "Requirement already satisfied: jinja2 in /usr/local/lib/python3.10/dist-packages (from torch->openai-whisper==20240930) (3.1.4)\n",
            "Requirement already satisfied: fsspec in /usr/local/lib/python3.10/dist-packages (from torch->openai-whisper==20240930) (2024.10.0)\n",
            "Requirement already satisfied: sympy==1.13.1 in /usr/local/lib/python3.10/dist-packages (from torch->openai-whisper==20240930) (1.13.1)\n",
            "Requirement already satisfied: mpmath<1.4,>=1.1.0 in /usr/local/lib/python3.10/dist-packages (from sympy==1.13.1->torch->openai-whisper==20240930) (1.3.0)\n",
            "Requirement already satisfied: charset-normalizer<4,>=2 in /usr/local/lib/python3.10/dist-packages (from requests>=2.26.0->tiktoken->openai-whisper==20240930) (3.4.0)\n",
            "Requirement already satisfied: urllib3<3,>=1.21.1 in /usr/local/lib/python3.10/dist-packages (from requests>=2.26.0->tiktoken->openai-whisper==20240930) (2.2.3)\n",
            "Requirement already satisfied: MarkupSafe>=2.0 in /usr/local/lib/python3.10/dist-packages (from jinja2->torch->openai-whisper==20240930) (3.0.2)\n",
            "Downloading triton-3.1.0-cp310-cp310-manylinux_2_17_x86_64.manylinux2014_x86_64.whl (209.5 MB)\n",
            "\u001b[2K   \u001b[90m━━━━━━━━━━━━━━━━━━━━━━━━━━━━━━━━━━━━━━━━\u001b[0m \u001b[32m209.5/209.5 MB\u001b[0m \u001b[31m5.6 MB/s\u001b[0m eta \u001b[36m0:00:00\u001b[0m\n",
            "\u001b[?25hDownloading tiktoken-0.8.0-cp310-cp310-manylinux_2_17_x86_64.manylinux2014_x86_64.whl (1.2 MB)\n",
            "\u001b[2K   \u001b[90m━━━━━━━━━━━━━━━━━━━━━━━━━━━━━━━━━━━━━━━━\u001b[0m \u001b[32m1.2/1.2 MB\u001b[0m \u001b[31m48.5 MB/s\u001b[0m eta \u001b[36m0:00:00\u001b[0m\n",
            "\u001b[?25hBuilding wheels for collected packages: openai-whisper\n",
            "  Building wheel for openai-whisper (pyproject.toml) ... \u001b[?25l\u001b[?25hdone\n",
            "  Created wheel for openai-whisper: filename=openai_whisper-20240930-py3-none-any.whl size=803583 sha256=1c0df83f67540fbe346b88f4f7d2c7a5b0d94ac2b5b2f19844be85ac7cf560a2\n",
            "  Stored in directory: /tmp/pip-ephem-wheel-cache-cmgx9me_/wheels/8b/6c/d0/622666868c179f156cf595c8b6f06f88bc5d80c4b31dccaa03\n",
            "Successfully built openai-whisper\n",
            "Installing collected packages: triton, tiktoken, openai-whisper\n",
            "Successfully installed openai-whisper-20240930 tiktoken-0.8.0 triton-3.1.0\n"
          ]
        }
      ],
      "source": [
        "pip install git+https://github.com/openai/whisper.git openai"
      ]
    },
    {
      "cell_type": "code",
      "source": [
        "from google.colab import drive\n",
        "drive.mount('/content/drive')"
      ],
      "metadata": {
        "colab": {
          "base_uri": "https://localhost:8080/"
        },
        "id": "hVu2Ljqnfm1L",
        "outputId": "a7ff8c9a-8461-4d68-a987-34aeee8cf623"
      },
      "execution_count": null,
      "outputs": [
        {
          "output_type": "stream",
          "name": "stdout",
          "text": [
            "Mounted at /content/drive\n"
          ]
        }
      ]
    },
    {
      "cell_type": "markdown",
      "source": [
        "The program then needs to be initialized. Ensure you place in your audio file name, select Whisper Model to use, and your OpenAI API Key (Don't worry. Google Colab doesn't save your apikey if you are in Playground Mode.)\n",
        "\n"
      ],
      "metadata": {
        "id": "yjL9OR_GXKCD"
      }
    },
    {
      "cell_type": "markdown",
      "source": [
        "Now, we will be setting up the transcribe() and gpt_process() functions."
      ],
      "metadata": {
        "id": "vAH0-g53YUvC"
      }
    },
    {
      "cell_type": "markdown",
      "source": [
        "Last, we will run the code. This will output 2 files into the session storage. The Transcript.txt as well as a Summary.txt"
      ],
      "metadata": {
        "id": "DJ--2-K0YbFy"
      }
    },
    {
      "cell_type": "code",
      "source": [
        "import torch\n",
        "import whisper\n",
        "import tqdm\n",
        "import sys\n",
        "\n",
        "audio = \"1.mp3\"  # Убедитесь, что аудиофайл загружен в нужное место!\n",
        "model = \"base\"  # Доступные опции: 'tiny', 'base', 'small', 'medium', 'large'\n",
        "\n",
        "\n",
        "def transcribe(audio, model_type):\n",
        "    class _CustomProgressBar(tqdm.tqdm):\n",
        "        def __init__(self, *args, **kwargs):\n",
        "            super().__init__(*args, **kwargs)\n",
        "            self._current = self.n\n",
        "\n",
        "        def update(self, n):\n",
        "            super().update(n)\n",
        "            self._current += n\n",
        "\n",
        "            print(\"Audio Transcribe Progress: \" + str(self._current) + \"/\" + str(self.total))\n",
        "\n",
        "    devices = torch.device(\"cuda:0\" if torch.cuda.is_available() else \"cpu\")\n",
        "    model = whisper.load_model(model_type, device=devices)\n",
        "    transcribe_module = sys.modules['whisper.transcribe']\n",
        "    transcribe_module.tqdm.tqdm = _CustomProgressBar\n",
        "\n",
        "    print(\"Beginning Transcribing Process...\")\n",
        "    result = model.transcribe(audio, verbose=None, fp16=False)\n",
        "    transcribed = result[\"text\"]\n",
        "    with open(\"Transcript.txt\", \"w\", encoding='utf-8') as text_file:\n",
        "        text_file.write(transcribed)\n",
        "        print(\"Saved Transcript to Transcript.txt\")\n",
        "    return transcribed\n",
        "\n",
        "# Транскрибация аудио\n",
        "text = transcribe(audio, model)\n"
      ],
      "metadata": {
        "id": "gs3gIQniRyOP",
        "outputId": "5c84dda0-b9ca-431b-e960-7b3607b20e03",
        "colab": {
          "base_uri": "https://localhost:8080/"
        }
      },
      "execution_count": null,
      "outputs": [
        {
          "output_type": "stream",
          "name": "stderr",
          "text": [
            "/usr/local/lib/python3.10/dist-packages/whisper/__init__.py:150: FutureWarning: You are using `torch.load` with `weights_only=False` (the current default value), which uses the default pickle module implicitly. It is possible to construct malicious pickle data which will execute arbitrary code during unpickling (See https://github.com/pytorch/pytorch/blob/main/SECURITY.md#untrusted-models for more details). In a future release, the default value for `weights_only` will be flipped to `True`. This limits the functions that could be executed during unpickling. Arbitrary objects will no longer be allowed to be loaded via this mode unless they are explicitly allowlisted by the user via `torch.serialization.add_safe_globals`. We recommend you start setting `weights_only=True` for any use case where you don't have full control of the loaded file. Please open an issue on GitHub for any issues related to this experimental feature.\n",
            "  checkpoint = torch.load(fp, map_location=device)\n"
          ]
        },
        {
          "output_type": "stream",
          "name": "stdout",
          "text": [
            "Beginning Transcribing Process...\n",
            "Audio Transcribe Progress: 2500/3430\n",
            "Audio Transcribe Progress: 5000/3430\n",
            "Audio Transcribe Progress: 5930/3430\n",
            "Audio Transcribe Progress: 6860/3430\n",
            "Saved Transcript to Transcript.txt\n"
          ]
        }
      ]
    },
    {
      "cell_type": "code",
      "source": [
        "import torch\n",
        "import whisper\n",
        "import tqdm\n",
        "import sys\n",
        "from transformers import pipeline\n",
        "\n",
        "# Параметры\n",
        "audio = \"2.mp3\"  # Убедитесь, что аудиофайл загружен в нужное место!\n",
        "model_type = \"base\"  # Доступные опции: 'tiny', 'base', 'small', 'medium', 'large'\n",
        "\n",
        "# Функция транскрибации\n",
        "def transcribe(audio, model_type):\n",
        "    class _CustomProgressBar(tqdm.tqdm):\n",
        "        def __init__(self, *args, **kwargs):\n",
        "            super().__init__(*args, **kwargs)\n",
        "            self._current = self.n\n",
        "\n",
        "        def update(self, n):\n",
        "            super().update(n)\n",
        "            self._current += n\n",
        "            print(\"Audio Transcribe Progress: \" + str(self._current) + \"/\" + str(self.total))\n",
        "\n",
        "    devices = torch.device(\"cuda:0\" if torch.cuda.is_available() else \"cpu\")\n",
        "    model = whisper.load_model(model_type, device=devices)\n",
        "    transcribe_module = sys.modules['whisper.transcribe']\n",
        "    transcribe_module.tqdm.tqdm = _CustomProgressBar\n",
        "\n",
        "    print(\"Beginning Transcribing Process...\")\n",
        "    result = model.transcribe(audio, verbose=None, fp16=False)\n",
        "    transcribed = result[\"text\"]\n",
        "    with open(\"Transcript.txt\", \"w\", encoding='utf-8') as text_file:\n",
        "        text_file.write(transcribed)\n",
        "        print(\"Saved Transcript to Transcript.txt\")\n",
        "    return transcribed\n",
        "\n",
        "# Анализ текста с помощью Hugging Face\n",
        "def analyze_text(text):\n",
        "    print(\"Starting Text Analysis...\")\n",
        "\n",
        "    # Анализ эмоций\n",
        "    emotion_classifier = pipeline(\"sentiment-analysis\")\n",
        "    emotions = emotion_classifier(text)\n",
        "\n",
        "    # Классификация текста (примерно по теме новостей)\n",
        "    classifier = pipeline(\"zero-shot-classification\")\n",
        "    categories = classifier(text, candidate_labels=[\"Complaint\", \"Review\", \"Question\", \"Request\", \"Feedback\"])\n",
        "\n",
        "    # Суммаризация текста\n",
        "    summarizer = pipeline(\"summarization\")\n",
        "    summary = summarizer(text, max_length=130, min_length=30, do_sample=False)\n",
        "\n",
        "    # Сохранение результата\n",
        "    with open(\"Analysis.txt\", \"w\", encoding='utf-8') as file:\n",
        "        file.write(\"Original Text:\\n\" + text + \"\\n\\n\")\n",
        "        file.write(\"Emotion Analysis:\\n\" + str(emotions) + \"\\n\\n\")\n",
        "        file.write(\"Text Classification:\\n\" + str(categories) + \"\\n\\n\")\n",
        "        file.write(\"Text Summary:\\n\" + summary[0]['summary_text'] + \"\\n\")\n",
        "        print(\"Saved Analysis to Analysis.txt\")\n",
        "\n",
        "# Транскрибация и анализ текста\n",
        "transcribed_text = transcribe(audio, model_type)\n",
        "analyze_text(transcribed_text)\n"
      ],
      "metadata": {
        "colab": {
          "base_uri": "https://localhost:8080/"
        },
        "id": "4jAZpMlUjpyS",
        "outputId": "c9728cfb-2d60-4daf-f535-5e44aea0374b"
      },
      "execution_count": null,
      "outputs": [
        {
          "output_type": "stream",
          "name": "stderr",
          "text": [
            "/usr/local/lib/python3.10/dist-packages/whisper/__init__.py:150: FutureWarning: You are using `torch.load` with `weights_only=False` (the current default value), which uses the default pickle module implicitly. It is possible to construct malicious pickle data which will execute arbitrary code during unpickling (See https://github.com/pytorch/pytorch/blob/main/SECURITY.md#untrusted-models for more details). In a future release, the default value for `weights_only` will be flipped to `True`. This limits the functions that could be executed during unpickling. Arbitrary objects will no longer be allowed to be loaded via this mode unless they are explicitly allowlisted by the user via `torch.serialization.add_safe_globals`. We recommend you start setting `weights_only=True` for any use case where you don't have full control of the loaded file. Please open an issue on GitHub for any issues related to this experimental feature.\n",
            "  checkpoint = torch.load(fp, map_location=device)\n"
          ]
        },
        {
          "output_type": "stream",
          "name": "stdout",
          "text": [
            "Beginning Transcribing Process...\n",
            "Audio Transcribe Progress: 2616/6691\n",
            "Audio Transcribe Progress: 5232/6691\n",
            "Audio Transcribe Progress: 7848/6691\n",
            "Audio Transcribe Progress: 10464/6691\n",
            "Audio Transcribe Progress: 13012/6691\n",
            "Audio Transcribe Progress: 15560/6691\n",
            "Audio Transcribe Progress: 18108/6691\n",
            "Audio Transcribe Progress: 20656/6691\n"
          ]
        },
        {
          "output_type": "stream",
          "name": "stderr",
          "text": [
            "No model was supplied, defaulted to distilbert/distilbert-base-uncased-finetuned-sst-2-english and revision 714eb0f (https://huggingface.co/distilbert/distilbert-base-uncased-finetuned-sst-2-english).\n",
            "Using a pipeline without specifying a model name and revision in production is not recommended.\n"
          ]
        },
        {
          "output_type": "stream",
          "name": "stdout",
          "text": [
            "Audio Transcribe Progress: 22183/6691\n",
            "Audio Transcribe Progress: 23710/6691\n",
            "Audio Transcribe Progress: 25237/6691\n",
            "Audio Transcribe Progress: 26764/6691\n",
            "Saved Transcript to Transcript.txt\n",
            "Starting Text Analysis...\n"
          ]
        },
        {
          "output_type": "stream",
          "name": "stderr",
          "text": [
            "No model was supplied, defaulted to facebook/bart-large-mnli and revision d7645e1 (https://huggingface.co/facebook/bart-large-mnli).\n",
            "Using a pipeline without specifying a model name and revision in production is not recommended.\n",
            "No model was supplied, defaulted to sshleifer/distilbart-cnn-12-6 and revision a4f8f3e (https://huggingface.co/sshleifer/distilbart-cnn-12-6).\n",
            "Using a pipeline without specifying a model name and revision in production is not recommended.\n"
          ]
        },
        {
          "output_type": "stream",
          "name": "stdout",
          "text": [
            "Saved Analysis to Analysis.txt\n"
          ]
        }
      ]
    },
    {
      "cell_type": "code",
      "source": [
        "import torch\n",
        "import whisper\n",
        "import tqdm\n",
        "import sys\n",
        "from transformers import pipeline\n",
        "from sentence_transformers import SentenceTransformer\n",
        "\n",
        "# Параметры\n",
        "audio = \"1.mp3\"  # Убедитесь, что аудиофайл загружен в нужное место!\n",
        "model_type = \"base\"  # Доступные опции: 'tiny', 'base', 'small', 'medium', 'large'\n",
        "\n",
        "# Функция транскрибации\n",
        "def transcribe(audio, model_type):\n",
        "    class _CustomProgressBar(tqdm.tqdm):\n",
        "        def __init__(self, *args, **kwargs):\n",
        "            super().__init__(*args, **kwargs)\n",
        "            self._current = self.n\n",
        "\n",
        "        def update(self, n):\n",
        "            super().update(n)\n",
        "            self._current += n\n",
        "            print(\"Audio Transcribe Progress: \" + str(self._current) + \"/\" + str(self.total))\n",
        "\n",
        "    devices = torch.device(\"cuda:0\" if torch.cuda.is_available() else \"cpu\")\n",
        "    model = whisper.load_model(model_type, device=devices)\n",
        "    transcribe_module = sys.modules['whisper.transcribe']\n",
        "    transcribe_module.tqdm.tqdm = _CustomProgressBar\n",
        "\n",
        "    print(\"Beginning Transcribing Process...\")\n",
        "    result = model.transcribe(audio, verbose=None, fp16=False)\n",
        "    transcribed = result[\"text\"]\n",
        "    with open(\"Transcript.txt\", \"w\", encoding='utf-8') as text_file:\n",
        "        text_file.write(transcribed)\n",
        "        print(\"Saved Transcript to Transcript.txt\")\n",
        "    return transcribed\n",
        "\n",
        "# Анализ текста с помощью Hugging Face\n",
        "def analyze_text(text):\n",
        "    print(\"Starting Text Analysis...\")\n",
        "\n",
        "    # Анализ эмоций\n",
        "    emotion_classifier = pipeline(\"sentiment-analysis\")\n",
        "    emotions = emotion_classifier(text)\n",
        "\n",
        "    # Анализ тональности речи\n",
        "    tone_classifier = pipeline(\"text-classification\", model=\"facebook/bart-large-mnli\")\n",
        "    tone_analysis = tone_classifier(text)\n",
        "\n",
        "    # Суммаризация текста\n",
        "    summarizer = pipeline(\"summarization\")\n",
        "    summary = summarizer(text, max_length=130, min_length=30, do_sample=False)\n",
        "\n",
        "    # Извлечение ключевых слов и тем\n",
        "    model = SentenceTransformer('sentence-transformers/all-mpnet-base-v2')\n",
        "    keywords = model.encode([text])\n",
        "\n",
        "    # Сохранение результата\n",
        "    with open(\"Analysis.txt\", \"w\", encoding='utf-8') as file:\n",
        "        file.write(\"Original Text:\\n\" + text + \"\\n\\n\")\n",
        "        file.write(\"Emotion Analysis:\\n\" + str(emotions) + \"\\n\\n\")\n",
        "        file.write(\"Tone Analysis:\\n\" + str(tone_analysis) + \"\\n\\n\")\n",
        "        file.write(\"Text Summary:\\n\" + summary[0]['summary_text'] + \"\\n\\n\")\n",
        "        file.write(\"Key Themes and Keywords:\\n\" + str(keywords) + \"\\n\")\n",
        "        print(\"Saved Analysis to Analysis.txt\")\n",
        "\n",
        "# Транскрибация и анализ текста\n",
        "transcribed_text = transcribe(audio, model_type)\n",
        "analyze_text(transcribed_text)\n"
      ],
      "metadata": {
        "id": "tRbDY23-M6BY"
      },
      "execution_count": null,
      "outputs": []
    },
    {
      "cell_type": "code",
      "source": [],
      "metadata": {
        "id": "iDmIFyzyNKyn"
      },
      "execution_count": null,
      "outputs": []
    }
  ]
}